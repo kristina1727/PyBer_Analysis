{
 "cells": [
  {
   "cell_type": "code",
   "execution_count": 2,
   "id": "46c1e056",
   "metadata": {},
   "outputs": [],
   "source": [
    "# Add Matplotlib inline magic command.\n",
    "%matplotlib inline\n",
    "\n",
    "# Import dependencies\n",
    "import pandas as pd\n",
    "import matplotlib.pyplot as plt\n",
    "import numpy as np\n",
    "import statistics"
   ]
  },
  {
   "cell_type": "code",
   "execution_count": 6,
   "id": "9c8fd1ac",
   "metadata": {},
   "outputs": [
    {
     "name": "stdout",
     "output_type": "stream",
     "text": [
      "           city  driver_count   type\n",
      "0   Richardfort            38  Urban\n",
      "1  Williamsstad            59  Urban\n",
      "2   Port Angela            67  Urban\n",
      "3    Rodneyfort            34  Urban\n",
      "4   West Robert            39  Urban\n",
      "                 city             date   fare       ride_id\n",
      "0  Lake Jonathanshire  1/14/2019 10:14  13.83  5.739410e+12\n",
      "1  South Michelleport   3/4/2019 18:24  30.24  2.343910e+12\n",
      "2  Port Samanthamouth   2/24/2019 4:29  33.44  2.005070e+12\n",
      "3          Rodneyfort  2/10/2019 23:22  23.44  5.149250e+12\n",
      "4          South Jack    3/6/2019 4:28  34.58  3.908450e+12\n"
     ]
    }
   ],
   "source": [
    "# Load, read and create DataFrames\n",
    "city_data_df = pd.read_csv('Resources/city_data.csv')\n",
    "print(city_data_df.head())\n",
    "ride_data_df = pd.read_csv('Resources/ride_data.csv')\n",
    "print(ride_data_df.head())\n"
   ]
  },
  {
   "cell_type": "code",
   "execution_count": 8,
   "id": "1a2d58f9",
   "metadata": {},
   "outputs": [
    {
     "data": {
      "text/plain": [
       "city            120\n",
       "driver_count    120\n",
       "type            120\n",
       "dtype: int64"
      ]
     },
     "execution_count": 8,
     "metadata": {},
     "output_type": "execute_result"
    }
   ],
   "source": [
    "# Get the columns and the rows that are not null.\n",
    "city_data_df.count()"
   ]
  },
  {
   "cell_type": "code",
   "execution_count": 9,
   "id": "cccd31c5",
   "metadata": {},
   "outputs": [
    {
     "data": {
      "text/plain": [
       "city            0\n",
       "driver_count    0\n",
       "type            0\n",
       "dtype: int64"
      ]
     },
     "execution_count": 9,
     "metadata": {},
     "output_type": "execute_result"
    }
   ],
   "source": [
    "# Get the columns and the rows that are not null.\n",
    "city_data_df.isnull().sum()"
   ]
  },
  {
   "cell_type": "code",
   "execution_count": 12,
   "id": "d2404583",
   "metadata": {},
   "outputs": [
    {
     "data": {
      "text/plain": [
       "city            object\n",
       "driver_count     int64\n",
       "type            object\n",
       "dtype: object"
      ]
     },
     "execution_count": 12,
     "metadata": {},
     "output_type": "execute_result"
    }
   ],
   "source": [
    "# Get the data types of each column.\n",
    "city_data_df.dtypes"
   ]
  },
  {
   "cell_type": "code",
   "execution_count": 16,
   "id": "58edbf54",
   "metadata": {},
   "outputs": [
    {
     "data": {
      "text/plain": [
       "array(['Urban', 'Suburban', 'Rural'], dtype=object)"
      ]
     },
     "execution_count": 16,
     "metadata": {},
     "output_type": "execute_result"
    }
   ],
   "source": [
    "# Get the unique values of the type of city.\n",
    "city_data_df['type'].unique()"
   ]
  },
  {
   "cell_type": "code",
   "execution_count": 18,
   "id": "f402c1d5",
   "metadata": {},
   "outputs": [
    {
     "data": {
      "text/plain": [
       "66"
      ]
     },
     "execution_count": 18,
     "metadata": {},
     "output_type": "execute_result"
    }
   ],
   "source": [
    "# Get the number of data points from the Urban cities.\n",
    "sum(city_data_df['type']=='Urban')"
   ]
  },
  {
   "cell_type": "code",
   "execution_count": 19,
   "id": "ef192ce1",
   "metadata": {},
   "outputs": [
    {
     "data": {
      "text/plain": [
       "36"
      ]
     },
     "execution_count": 19,
     "metadata": {},
     "output_type": "execute_result"
    }
   ],
   "source": [
    "# Get the number of data points from the Suburban cities.\n",
    "sum(city_data_df['type']=='Suburban')"
   ]
  },
  {
   "cell_type": "code",
   "execution_count": 20,
   "id": "cfc4aaec",
   "metadata": {},
   "outputs": [
    {
     "data": {
      "text/plain": [
       "18"
      ]
     },
     "execution_count": 20,
     "metadata": {},
     "output_type": "execute_result"
    }
   ],
   "source": [
    "# Get the number of data points from the Rural cities.\n",
    "sum(city_data_df['type']=='Rural')"
   ]
  },
  {
   "cell_type": "code",
   "execution_count": 10,
   "id": "b85d43a7",
   "metadata": {},
   "outputs": [
    {
     "data": {
      "text/plain": [
       "city       2375\n",
       "date       2375\n",
       "fare       2375\n",
       "ride_id    2375\n",
       "dtype: int64"
      ]
     },
     "execution_count": 10,
     "metadata": {},
     "output_type": "execute_result"
    }
   ],
   "source": [
    "# Get the columns and the rows that are not null.\n",
    "ride_data_df.count()"
   ]
  },
  {
   "cell_type": "code",
   "execution_count": 13,
   "id": "4c97c6d8",
   "metadata": {},
   "outputs": [
    {
     "data": {
      "text/plain": [
       "city       0\n",
       "date       0\n",
       "fare       0\n",
       "ride_id    0\n",
       "dtype: int64"
      ]
     },
     "execution_count": 13,
     "metadata": {},
     "output_type": "execute_result"
    }
   ],
   "source": [
    "# Get the columns and the rows that are not null.\n",
    "ride_data_df.isnull().sum()"
   ]
  },
  {
   "cell_type": "code",
   "execution_count": 14,
   "id": "3eb2a91b",
   "metadata": {},
   "outputs": [
    {
     "data": {
      "text/plain": [
       "city        object\n",
       "date        object\n",
       "fare       float64\n",
       "ride_id    float64\n",
       "dtype: object"
      ]
     },
     "execution_count": 14,
     "metadata": {},
     "output_type": "execute_result"
    }
   ],
   "source": [
    "# Get the data types of each column.\n",
    "ride_data_df.dtypes"
   ]
  },
  {
   "cell_type": "code",
   "execution_count": 23,
   "id": "e9d0a181",
   "metadata": {},
   "outputs": [
    {
     "name": "stdout",
     "output_type": "stream",
     "text": [
      "                   city             date   fare       ride_id  driver_count  \\\n",
      "0    Lake Jonathanshire  1/14/2019 10:14  13.83  5.739410e+12             5   \n",
      "1    South Michelleport   3/4/2019 18:24  30.24  2.343910e+12            72   \n",
      "2    Port Samanthamouth   2/24/2019 4:29  33.44  2.005070e+12            57   \n",
      "3            Rodneyfort  2/10/2019 23:22  23.44  5.149250e+12            34   \n",
      "4            South Jack    3/6/2019 4:28  34.58  3.908450e+12            46   \n",
      "5          South Latoya  3/11/2019 12:26   9.52  1.995000e+12            10   \n",
      "6         New Paulville  2/27/2019 11:17  43.25  7.932080e+11            44   \n",
      "7          Simpsonburgh   4/26/2019 0:43  35.98  1.119540e+11            21   \n",
      "8       South Karenland    1/8/2019 3:28  35.09  7.995620e+12             4   \n",
      "9         North Jasmine    3/9/2019 6:26  42.81  5.327640e+12            33   \n",
      "10  New Kimberlyborough    2/7/2019 1:10   9.34  7.992780e+12            33   \n",
      "11          West Angela   1/12/2019 1:45  26.86  4.820050e+12            48   \n",
      "12           Rodneyfort   3/2/2019 18:03  44.26  2.494060e+12            34   \n",
      "13          West Angela  1/10/2019 12:17  12.74  2.108720e+12            48   \n",
      "14          Roberthaven   5/4/2019 14:48  25.66  1.026200e+12            47   \n",
      "15          North Jason  3/28/2019 22:28   9.19  7.007020e+12             6   \n",
      "16         Williamsview   1/3/2019 16:19  18.93  1.979490e+12            46   \n",
      "17              Leahton  2/26/2019 18:42   8.85  6.966670e+12            17   \n",
      "18         West Anthony    3/6/2019 2:27  10.02  9.396760e+12            70   \n",
      "19  New Kimberlyborough  4/25/2019 22:58  29.67  4.823570e+12            33   \n",
      "\n",
      "     type  \n",
      "0   Urban  \n",
      "1   Urban  \n",
      "2   Urban  \n",
      "3   Urban  \n",
      "4   Urban  \n",
      "5   Urban  \n",
      "6   Urban  \n",
      "7   Urban  \n",
      "8   Urban  \n",
      "9   Urban  \n",
      "10  Urban  \n",
      "11  Urban  \n",
      "12  Urban  \n",
      "13  Urban  \n",
      "14  Urban  \n",
      "15  Urban  \n",
      "16  Urban  \n",
      "17  Urban  \n",
      "18  Urban  \n",
      "19  Urban  \n"
     ]
    }
   ],
   "source": [
    "# Merge DataFrames\n",
    "pyber_data_df = pd.merge(ride_data_df, city_data_df, how = 'left', on ='city')\n",
    "print(pyber_data_df.head(20))"
   ]
  },
  {
   "cell_type": "code",
   "execution_count": null,
   "id": "703cee93",
   "metadata": {},
   "outputs": [],
   "source": [
    "# Create bubble chart to show average fare vs the total number of rides.\n",
    "\n",
    "# Change bubble size to be based on the total number of drivers for each city type."
   ]
  },
  {
   "cell_type": "code",
   "execution_count": null,
   "id": "19732d4d",
   "metadata": {},
   "outputs": [],
   "source": [
    "# Determine the mean, median, and mode for total number of rides for each city type.\n",
    "\n",
    "# Determine the mean, median, and mode for the average fares for each city type.\n",
    "\n",
    "# Determine the mean, median, and mode for total number of drivers for each city type."
   ]
  }
 ],
 "metadata": {
  "kernelspec": {
   "display_name": "PythonData",
   "language": "python",
   "name": "pythondata"
  },
  "language_info": {
   "codemirror_mode": {
    "name": "ipython",
    "version": 3
   },
   "file_extension": ".py",
   "mimetype": "text/x-python",
   "name": "python",
   "nbconvert_exporter": "python",
   "pygments_lexer": "ipython3",
   "version": "3.7.10"
  }
 },
 "nbformat": 4,
 "nbformat_minor": 5
}
